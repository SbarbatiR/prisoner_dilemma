{
 "cells": [
  {
   "cell_type": "markdown",
   "metadata": {},
   "source": [
    "# Iterative Prisoner's Dilemma\n",
    "\n",
    "## Description\n",
    "\n",
    "## Project's aims\n",
    "\n",
    "## Project's structure\n",
    "\n",
    "This project is structured as follow:\n",
    "* **Point one - Fight 1 vs 1**: development of a method to implement a single IPD problem, between two chosen strategies which \"fight\" and score points based on the payoff parameters.\n",
    "* **Point Two - All vs all**: by implementing a round-robin scheme, where each strategy competes against all the others, the general behaviour of each strategy can be studied to observe the best performing one in a single fight.\n",
    "* **Point Three - Population evolution**: study the efficiency of every strategy in a \"long-term\" conflict by iterating the fights *all vs all* and evolving the population of the partecipants at each iteration by \"killing\" the worst performing ones and increasing the numbers of the \"winning\" ones.\n",
    "* **Point Four - Mutations**: repetition of the previous process but giving the strategies a probability to mutate at each iteration, with a gene that encodes the  possibility for a partecipant to collaborate independently from his strategy.\n",
    "\n",
    "### Libraries and imported files\n",
    "\n",
    "We have implemented some libraries and, in order to simplify and streamline the main project, we have created strategies.py, update_func.py and it_pris_dil_func.py, which we'll discuss later."
   ]
  },
  {
   "cell_type": "code",
   "execution_count": 2,
   "metadata": {},
   "outputs": [],
   "source": [
    "import numpy as np\n",
    "import numpy.random as npr\n",
    "import matplotlib.pyplot as plt\n",
    "import pandas as pd\n",
    "from IPython.display import display\n",
    "import it_pris_dil_func as pris_dil"
   ]
  },
  {
   "cell_type": "markdown",
   "metadata": {},
   "source": [
    "### Strategies implemented\n",
    "\n",
    "* **Nice guy**: always cooperates\n",
    "* **Bad guy**: always defects \n",
    "* **Mainly nice**: randomly defects $k\\%$ of the times and cooperates $100-k\\%$, for this project we chose $k = 30$\n",
    "* **Mainly bad**: randomly defects $k\\%$ of the times and cooperates $100-k\\%$, for this project we chose $k = 30$\n",
    "* **Tit-for-tat**: starts by cooperating, then repeats what the opponent has done in the previous move\n",
    "* **Random**:cooperates or defects randomly\n",
    "* **Grim**: starts by cooperating, but if the opponent defects one time, it'll always defect\n",
    "* **Forgiving Tit-Tat**: starts by cooperating, then repeats what the opponent has done in the previous move, but defects only if the opponent defects for two consecutive rounds\n",
    "* **Suspicious Tit-Tat**: starts by defecting, then repeats what the opponent has done in the previous move\n",
    "* **Pavlov**: cooperates if in the previous round he and the opponent had done the same move, otherwise defects \n",
    "* **Reactive Nice**: in the first round cooperates $50\\%$ of the times, then cooperates with probability $p$ if the opponent cooperated in  the previous round, and with probability $q$ if the opponent defected. In this case the probability values $p$ and $q$ were set respectively at $0.7$ and $0.3$\n",
    "* **Reactive Bad**: same strategy as the previous one, but with set values $p$ and $q$ respectively $0.3$ and $0.7$\n",
    "* **Hard Joss**: plays like Tit-for-Tat, but cooperates only with probability $0.9$\n",
    "* **Soft Joss**: plays like Tit-for-Tat, but defects only with probability $0.9$"
   ]
  },
  {
   "cell_type": "code",
   "execution_count": null,
   "metadata": {},
   "outputs": [],
   "source": [
    "uc, ud = [1,0], [0,1]\n",
    "k=0.3\n",
    "\n",
    "def nice_guy(it,u,v,u2):\n",
    "    return uc\n",
    "\n",
    "def bad_guy(it,u,v,u2):\n",
    "    return ud\n",
    "\n",
    "def mainly_nice(it,u,v,u2):\n",
    "    a = npr.rand()\n",
    "    if a > k: return uc\n",
    "    else: return ud\n",
    "    \n",
    "def mainly_bad(it,u,v,u2):\n",
    "    a = npr.rand()\n",
    "    if a <= k: return uc\n",
    "    else: return ud\n",
    "    \n",
    "def tit_tat(it,u,v,u2):\n",
    "    if it==2: return uc\n",
    "    else: return u\n",
    "    \n",
    "def random(it,u,v,u2):\n",
    "    a = npr.rand()\n",
    "    if a < 0.5: return uc\n",
    "    else: return ud\n",
    "    \n",
    "def pavlov(it,u,v,u2):\n",
    "    if it==2:\n",
    "        return uc\n",
    "    else:\n",
    "        if v == ud:\n",
    "            return ud\n",
    "        else:\n",
    "            if u == ud:\n",
    "                return ud\n",
    "            else: return uc\n",
    "\n",
    "def f_tit_tat(it,u,v,u2):\n",
    "    if it <= 3: return uc\n",
    "    else:\n",
    "        if u == ud and u2 == ud:\n",
    "            return ud\n",
    "        else: return uc"
   ]
  },
  {
   "cell_type": "markdown",
   "metadata": {},
   "source": [
    "As input variables we have:\n",
    "* `it`: current iteration (round) of the 1vs1 fight\n",
    "* `u`: opponent's move in the previous round\n",
    "* `u2`: opponent's move two rounds before\n",
    "* `v`: player's move in the previous round"
   ]
  },
  {
   "cell_type": "markdown",
   "metadata": {},
   "source": [
    "### Strategy dictionary: strat\n",
    "\n",
    "Spieghiamo come richiamiamo le varie strategie."
   ]
  },
  {
   "cell_type": "code",
   "execution_count": null,
   "metadata": {},
   "outputs": [],
   "source": [
    "strat = {'nice': partial(st.nice_guy),\n",
    "        'bad': partial(st.bad_guy), \n",
    "        'm_nice': partial(st.mainly_nice),\n",
    "        'm_bad': partial(st.mainly_bad),\n",
    "        'tit_tat': partial(st.tit_tat),\n",
    "        'random': partial(st.random),\n",
    "        'grim': partial(st.grim),\n",
    "        'f_tit_tat': partial(st.f_tit_tat),\n",
    "        'sus_tit_tat': partial(st.sus_tit_tat),\n",
    "        'pavlov': partial(st.pavlov),\n",
    "        'reactive_nice': partial(st.reactive_nice),\n",
    "        'reactive_bad': partial(st.reactive_bad),\n",
    "        'hard_joss': partial(st.hard_joss),\n",
    "        'soft_joss': partial(st.soft_joss)}"
   ]
  },
  {
   "cell_type": "markdown",
   "metadata": {},
   "source": [
    "## Point 1: IPD between two players\n",
    "\n",
    "In this first part we want to implement a iterated prisoner's dilemma implementing two given strategies."
   ]
  },
  {
   "cell_type": "markdown",
   "metadata": {},
   "source": [
    "### 1vs1 Fight function\n",
    "\n",
    "Here is reported the function to calculate the fight 1vs1 which consists in a game of the standard prisoner dilemma between two given strategies, iterated for a chosen number of times.\n",
    "\n",
    "To study the results of a contention between two given strategies we implemented the `fight()` function, which does the following:\n",
    "* create the **answer vectors** `p1` and `p2`, with the actions of the two strategies at each iteration.\n",
    "* from them, compute the cumulative vector of **results**"
   ]
  },
  {
   "cell_type": "code",
   "execution_count": null,
   "metadata": {},
   "outputs": [],
   "source": [
    "def fight(player1,player2,N=None):\n",
    "\n",
    "    if N == None: N = 100\n",
    "            \n",
    "    R, S, T, P = 3, 0, 5, 1\n",
    "    M = np.array([[R,S],[T,P]])\n",
    "\n",
    "    p1, p2 = [-1,-1], [-1,-1]\n",
    "    for i in range(2,N+2):\n",
    "        if probf == 0 and probg == 0:\n",
    "            p1.append(strat[player1](i,p2[i-1],p1[i-1],p2[i-2]))\n",
    "            p2.append(strat[player2](i,p1[i-1],p2[i-1],p1[i-2]))\n",
    "\n",
    "    p1 = np.array(p1[2:]).T\n",
    "    p2 = np.array(p2[2:]).T\n",
    "\n",
    "    result_1 = np.cumsum([np.dot(p1[:,i].T,np.dot(M,p2[:,i])) for i in range(N)])\n",
    "    result_2 = np.cumsum([np.dot(p2[:,i].T,np.dot(M,p1[:,i])) for i in range(N)])\n",
    "\n",
    "    return result_1[-1], result_2[-1]"
   ]
  },
  {
   "cell_type": "markdown",
   "metadata": {},
   "source": [
    "For simplicity in this first point we use only the standard strategies, represented in a list called `s`.\n",
    "We use this function in a nested for loop in order to create the **result matrix**, containing the score of all the fights' combinations."
   ]
  },
  {
   "cell_type": "code",
   "execution_count": null,
   "metadata": {},
   "outputs": [],
   "source": [
    "s = ['nice','bad','m_nice','m_bad','tit_tat']\n",
    "\n",
    "result = np.zeros((len(s),len(s)))\n",
    "for i in range(len(s)):\n",
    "    for j in range(i,len(s)):\n",
    "        p1, p2 = pris_dil.fight(s[i],s[j])\n",
    "        result[i,j] = p1\n",
    "        result[j,i] = p2"
   ]
  },
  {
   "cell_type": "markdown",
   "metadata": {},
   "source": [
    "* mostrare come con il programma possiamo creare un df con i risultati degli scontri singoli (img dataframe), prima mostrrare i primi 5, vince bad, poi vedere come con tutte le strategie già le strategie più carine vincono\n",
    "* esempi di combattimenti 1vs1 con griglia colorata e con grafico generale (tit_tat vs sus_tit_tat, random vs grim, m_bad vs f_tit_tat, pavlov vs soft_joss, reactive_nice vs reactive_nice)\n",
    "* considerazioni su strategie più efficienti"
   ]
  },
  {
   "cell_type": "markdown",
   "metadata": {},
   "source": [
    "## Point 2: Multiple Players IPD - MPIPD\n",
    "\n",
    "Parlare del vettore h, come lo generiamo e come facciamo a collegare un numero intero con una specifica strategia.\n",
    "\n",
    "### Round Robin function\n"
   ]
  },
  {
   "cell_type": "code",
   "execution_count": null,
   "metadata": {},
   "outputs": [],
   "source": [
    "def round_robin(h,s, ord=False):\n",
    "\n",
    "    N = len(h)\n",
    "    partecipants = [s[int(i)] for i in h] \n",
    "    \n",
    "    h = np.array(h)\n",
    "\n",
    "    result = np.zeros((N,N))\n",
    "    somma = np.zeros(N)\n",
    "    for i in range(N):\n",
    "        for j in range(i+1,N):\n",
    "            p1, p2 = fight(partecipants[i],partecipants[j])\n",
    "            result[i,j] = p1\n",
    "            result[j,i] = p2\n",
    "\n",
    "        somma[i] = np.sum(result[i,:])\n",
    "\n",
    "    unique, n_strategies = np.unique(h,return_counts=True)\n",
    "    media = np.zeros(len(unique))\n",
    "\n",
    "    for i in range(N):\n",
    "        val = int(np.argwhere(unique == h[i]))\n",
    "        media[val] += somma[i]\n",
    "\n",
    "    media = np.round(media/n_strategies,2)\n",
    "    \n",
    "    if ord == True:\n",
    "        sort = media.argsort()\n",
    "        media = media[sort]\n",
    "        unique = unique[sort]\n",
    "        n_strategies = n_strategies[sort]\n",
    "\n",
    "    return unique, media, n_strategies"
   ]
  },
  {
   "cell_type": "markdown",
   "metadata": {},
   "source": [
    "Spiegazione di r_r"
   ]
  },
  {
   "cell_type": "code",
   "execution_count": null,
   "metadata": {},
   "outputs": [],
   "source": [
    "s = ['nice','bad','m_nice','m_bad','tit_tat']\n",
    "h = npr.randint(0,len(s),size=30)\n",
    "\n",
    "unique, media, n_strat = pris_dil.round_robin(h,s,ord=True)"
   ]
  },
  {
   "cell_type": "markdown",
   "metadata": {},
   "source": [
    "**ESEMPI E CONSIDERAZIONI**\n",
    "* solo le prime 5 (o assortimento con lo stesso numero di buone e cattive) -> vince bad\n",
    "* aggingi strategie buone la situa cambia\n",
    "* migliorare il grafico a barre con l'informazione sul numero di partecipanti"
   ]
  },
  {
   "cell_type": "markdown",
   "metadata": {},
   "source": [
    "## Point 3: repeated MPIPD - rMPIPD\n",
    "\n",
    "introdurre tournament"
   ]
  },
  {
   "cell_type": "code",
   "execution_count": null,
   "metadata": {},
   "outputs": [],
   "source": [
    "def tournament(h,update_f,s,it=None,n_change=None):\n",
    "    \n",
    "    if it == None: it = 100\n",
    "\n",
    "    n_matrix = np.zeros([it,len(s)])  #matrix of the number of strategies at each iteration\n",
    "    val_matrix = np.zeros([it,len(s)])  #matrix of the average scores at each iteration\n",
    "\n",
    "    for i in range(it):    \n",
    "        strategies, average_results, numbers = round_robin(h,s,ord=True)\n",
    "\n",
    "        numbers_1 = np.zeros(len(n_matrix.T))\n",
    "        average_1 = np.zeros(len(n_matrix.T))\n",
    "        \n",
    "        for j in range(len(strategies)):\n",
    "            numbers_1[strategies[j]] = int(numbers[j])\n",
    "            average_1[strategies[j]] = average_results[j]\n",
    "\n",
    "        n_matrix[i] = numbers_1\n",
    "        val_matrix[i] = average_1\n",
    "\n",
    "        h = update[update_f](h,strategies,average_results,s,n_change)\n",
    "\n",
    "    return n_matrix, val_matrix"
   ]
  },
  {
   "cell_type": "markdown",
   "metadata": {},
   "source": [
    "presentare le varie update a parole (elenco puntato, magari disegnini) e fare considerazioni su quale sia la migliore\n",
    "* h fisso provare i diversi update, scegliere un h neutro con stesso numero di buoni e cattivi\n",
    "presentare poi l'update scelto, probably il 5"
   ]
  },
  {
   "cell_type": "code",
   "execution_count": null,
   "metadata": {},
   "outputs": [],
   "source": [
    "s = ['nice','bad','m_nice','m_bad','tit_tat',\n",
    "    'random','grim','f_tit_tat','sus_tit_tat',\n",
    "    'pavlov','reactive_nice','reactive_bad',\n",
    "    'hard_joss','soft_joss']\n",
    "    \n",
    "h = npr.randint(0,len(s),size=60)\n",
    "unique, n_strategies = np.unique(h,return_counts=True)\n",
    "\n",
    "for a,b in zip(unique,n_strategies): print(s[a],b)\n",
    "\n",
    "iterations = 100\n",
    "n_ma3, val_ma3 = pris_dil.tournament(h,'update_3',s,it=iterations)"
   ]
  },
  {
   "cell_type": "markdown",
   "metadata": {},
   "source": [
    "Scelto update, fare un sacco di test e vedere come si comportano le strategie, trarre le prime conclusioni su chi sia la best della crew\n",
    "studiare diverse configurazioni di h\n",
    "* primi 5\n",
    "* all together now\n",
    "* distribuzione pensata con meno buoni\n",
    "* forti vs forti e scarsi vs scarsi\n",
    "* 70% bad vs 30% tit tat miste\n",
    "* sus vs forgiving vs tit_tat"
   ]
  },
  {
   "cell_type": "markdown",
   "metadata": {},
   "source": [
    "## Point 4: rMPIPD with mutations\n",
    "\n",
    "Presentare l'algoritmo di applicazione del gene, funzione mutate(), spiegare brevemente come abbiamo aggiornato le funzioni precedenti per adattarle a mutate()"
   ]
  },
  {
   "cell_type": "code",
   "execution_count": null,
   "metadata": {},
   "outputs": [],
   "source": [
    "def mutation(player,gene,it,u,v,u2):\n",
    "\n",
    "    if npr.random() < gene:\n",
    "        return [1,0]\n",
    "    else:\n",
    "        return strat[player](it,u,v,u2)\n",
    "    \n",
    "def tournament(h,update_f,s,it=None,mutation_prob=None,n_change=None):\n",
    "    \n",
    "    if it == None: it = 100\n",
    "    s_ref = [[i,0] for i in range(len(s))]\n",
    "\n",
    "    new_strat = 0\n",
    "    n_matrix = np.zeros([it,len(s)])                   #matrix of the number of strategies at each iteration\n",
    "    val_matrix = np.zeros([it,len(s)])                 #matrix of the average scores at each iteration\n",
    "    new_col = np.zeros((it,1))\n",
    "\n",
    "    for i in range(it):    \n",
    "        strategies, average_results, numbers = round_robin(h,s,ord=True)\n",
    "        \n",
    "        for j in range(new_strat):                     #adds a new column to n_matrix and val_matrix \n",
    "            n_matrix = np.hstack((n_matrix,new_col))   #for each new strategy born in the previous iteration\n",
    "            val_matrix = np.hstack((val_matrix,new_col))\n",
    "\n",
    "        numbers_1 = np.zeros(len(n_matrix.T))\n",
    "        average_1 = np.zeros(len(n_matrix.T))\n",
    "\n",
    "        if np.shape(h) == (len(h.T),):                 #NO mutations\n",
    "            for j in range(len(strategies)):\n",
    "                numbers_1[strategies[j]] = int(numbers[j])\n",
    "                average_1[strategies[j]] = average_results[j]\n",
    "\n",
    "        else:\n",
    "            for j in range(len(strategies.T)):         #YES mutations\n",
    "                for k in range(len(s_ref)):            #new slicing method adapted for 2-dim h\n",
    "                    if np.all(s_ref[k] == strategies[:,j]):\n",
    "                        ind = k\n",
    "                numbers_1[ind] = int(numbers[j])\n",
    "                average_1[ind] = average_results[j]\n",
    "\n",
    "        n_matrix[i] = numbers_1\n",
    "        val_matrix[i] = average_1\n",
    "\n",
    "        h, new_strat = update[update_f](h,strategies,average_results,s,s_ref,mutation_prob,n_change)\n",
    "\n",
    "    return n_matrix, val_matrix"
   ]
  },
  {
   "cell_type": "markdown",
   "metadata": {},
   "source": [
    "Presentare il nuovo h, s_ref, new_strat e robe varie"
   ]
  },
  {
   "cell_type": "code",
   "execution_count": null,
   "metadata": {},
   "outputs": [],
   "source": [
    "s = ['nice','bad','m_nice','m_bad','tit_tat',\n",
    "    'random','grim','f_tit_tat','sus_tit_tat',\n",
    "    'pavlov','reactive_nice','reactive_bad',\n",
    "    'hard_joss','soft_joss']\n",
    "\n",
    "n_players = 60\n",
    "h = np.zeros((2,n_players))\n",
    "h[0] = npr.randint(0,len(s),size=n_players)\n",
    "unique, n_strategies = np.unique(h[0],return_counts=True)\n",
    "\n",
    "for a,b in zip(unique,n_strategies): print(s[int(a)],b)\n",
    "\n",
    "iterations = 100\n",
    "n_ma4, val_ma4 = pris_dil.tournament(h,'update_3',s,it=iterations,mutation_prob=0.05)"
   ]
  },
  {
   "cell_type": "markdown",
   "metadata": {},
   "source": [
    "Poi fare delle nuove prove e simulazioni e trarre le dovute conclusioni\n",
    "* fissare un h con non troppe strategie diverse e cambiare la prob di mutazione\n",
    "* prendere ispirazione dalle h del punto prima e studiare casi interessanti\n",
    "meglio usare h senza troppi partecipanti diversi e con lo stesso numero per non sbilanciare la probabilità di mutazione"
   ]
  },
  {
   "cell_type": "code",
   "execution_count": null,
   "metadata": {},
   "outputs": [],
   "source": []
  }
 ],
 "metadata": {
  "kernelspec": {
   "display_name": "Python 3 (ipykernel)",
   "language": "python",
   "name": "python3"
  },
  "language_info": {
   "codemirror_mode": {
    "name": "ipython",
    "version": 3
   },
   "file_extension": ".py",
   "mimetype": "text/x-python",
   "name": "python",
   "nbconvert_exporter": "python",
   "pygments_lexer": "ipython3",
   "version": "3.8.8"
  }
 },
 "nbformat": 4,
 "nbformat_minor": 4
}
